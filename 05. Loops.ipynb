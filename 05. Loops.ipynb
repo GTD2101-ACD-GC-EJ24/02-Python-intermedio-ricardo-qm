{
  "cells": [
    {
      "attachments": {},
      "cell_type": "markdown",
      "metadata": {},
      "source": [
        "# Loops y List Comprehensions\n",
        "\n",
        "En este JNB se revisará el tema de Lists y List Comprehensions"
      ]
    },
    {
      "cell_type": "code",
      "execution_count": 13,
      "metadata": {
        "id": "O8NoTzxjs2wK",
        "outputId": "fa4bc249-a4fa-48a6-9dc6-7733646ed223"
      },
      "outputs": [
        {
          "name": "stdout",
          "output_type": "stream",
          "text": [
            "Mercury Venus Earth Mars Jupiter Saturn Uranus Neptune "
          ]
        }
      ],
      "source": [
        "planets = ['Mercury', 'Venus', 'Earth', 'Mars', 'Jupiter', 'Saturn', 'Uranus', 'Neptune']\n",
        "for planet in planets:\n",
        "    print(planet, end=' ') # print all on same line"
      ]
    },
    {
      "cell_type": "code",
      "execution_count": 14,
      "metadata": {},
      "outputs": [
        {
          "name": "stdout",
          "output_type": "stream",
          "text": [
            "360\n"
          ]
        }
      ],
      "source": [
        "multiplicands = (2, 2, 2, 3, 3, 5)\n",
        "product = 1\n",
        "for mult in multiplicands:\n",
        "    product = product * mult\n",
        "print(product)"
      ]
    },
    {
      "cell_type": "code",
      "execution_count": 15,
      "metadata": {},
      "outputs": [
        {
          "name": "stdout",
          "output_type": "stream",
          "text": [
            "HELLO"
          ]
        }
      ],
      "source": [
        "s = 'steganograpHy is the practicE of conceaLing a file, message, image, or video within another fiLe, message, image, Or video.'\n",
        "msg = ''\n",
        "# print all the uppercase letters in s, one at a time\n",
        "for char in s:\n",
        "    if char.isupper():\n",
        "        print(char, end='')       "
      ]
    },
    {
      "cell_type": "markdown",
      "metadata": {},
      "source": [
        "# El uso del range() en ciclos for\n"
      ]
    },
    {
      "cell_type": "code",
      "execution_count": 16,
      "metadata": {},
      "outputs": [
        {
          "name": "stdout",
          "output_type": "stream",
          "text": [
            "Doing important work. i = 0\n",
            "Doing important work. i = 1\n",
            "Doing important work. i = 2\n",
            "Doing important work. i = 3\n",
            "Doing important work. i = 4\n"
          ]
        }
      ],
      "source": [
        "for i in range(5):\n",
        "    print(\"Doing important work. i =\", i)"
      ]
    },
    {
      "cell_type": "code",
      "execution_count": 17,
      "metadata": {},
      "outputs": [
        {
          "name": "stdout",
          "output_type": "stream",
          "text": [
            "Doing important work. i = 2\n",
            "Doing important work. i = 3\n",
            "Doing important work. i = 4\n"
          ]
        }
      ],
      "source": [
        "for i in range(2,5):\n",
        "    print(\"Doing important work. i =\", i)"
      ]
    },
    {
      "cell_type": "code",
      "execution_count": 18,
      "metadata": {},
      "outputs": [
        {
          "name": "stdout",
          "output_type": "stream",
          "text": [
            "Doing important work. i = 0\n",
            "Doing important work. i = 2\n",
            "Doing important work. i = 4\n",
            "Doing important work. i = 6\n",
            "Doing important work. i = 8\n"
          ]
        }
      ],
      "source": [
        "for i in range(0,10,2):\n",
        "    print(\"Doing important work. i =\", i)"
      ]
    }
  ],
  "metadata": {
    "colab": {
      "include_colab_link": true,
      "provenance": []
    },
    "kernelspec": {
      "display_name": "Python 3.10.7 64-bit",
      "language": "python",
      "name": "python3"
    },
    "language_info": {
      "codemirror_mode": {
        "name": "ipython",
        "version": 3
      },
      "file_extension": ".py",
      "mimetype": "text/x-python",
      "name": "python",
      "nbconvert_exporter": "python",
      "pygments_lexer": "ipython3",
      "version": "3.10.13"
    },
    "orig_nbformat": 4,
    "vscode": {
      "interpreter": {
        "hash": "eb4a0ac80907d7f44e1a5e88d3d3381b33e3dbedd3a24d113e876f30a0c46bee"
      }
    }
  },
  "nbformat": 4,
  "nbformat_minor": 0
}
